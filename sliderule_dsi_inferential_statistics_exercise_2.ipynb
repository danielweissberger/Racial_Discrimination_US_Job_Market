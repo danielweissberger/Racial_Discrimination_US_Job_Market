{
 "cells": [
  {
   "cell_type": "markdown",
   "metadata": {},
   "source": [
    "# Examining Racial Discrimination in the US Job Market\n",
    "\n",
    "### Background\n",
    "Racial discrimination continues to be pervasive in cultures throughout the world. Researchers examined the level of racial discrimination in the United States labor market by randomly assigning identical résumés to black-sounding or white-sounding names and observing the impact on requests for interviews from employers.\n",
    "\n",
    "### Data\n",
    "In the dataset provided, each row represents a resume. The 'race' column has two values, 'b' and 'w', indicating black-sounding and white-sounding. The column 'call' has two values, 1 and 0, indicating whether the resume received a call from employers or not.\n",
    "\n",
    "Note that the 'b' and 'w' values in race are assigned randomly to the resumes when presented to the employer."
   ]
  },
  {
   "cell_type": "markdown",
   "metadata": {},
   "source": [
    "Exercises\n",
    "You will perform a statistical analysis to establish whether race has a significant impact on the rate of callbacks for resumes.\n",
    "\n",
    "Answer the following questions in this notebook below and submit to your Github account.\n",
    "\n",
    "What test is appropriate for this problem? Does CLT apply?\n",
    "What are the null and alternate hypotheses?\n",
    "Compute margin of error, confidence interval, and p-value. Try using both the bootstrapping and the frequentist statistical approaches.\n",
    "Write a story describing the statistical significance in the context or the original problem.\n",
    "Does your analysis mean that race/name is the most important factor in callback success? Why or why not? If not, how would you amend your analysis?\n",
    "You can include written notes in notebook cells using Markdown:\n",
    "\n",
    "In the control panel at the top, choose Cell > Cell Type > Markdown\n",
    "Markdown syntax: http://nestacms.com/docs/creating-content/markdown-cheat-sheet\n",
    "Resources\n",
    "Experiment information and data source: http://www.povertyactionlab.org/evaluation/discrimination-job-market-united-states\n",
    "Scipy statistical methods: http://docs.scipy.org/doc/scipy/reference/stats.html\n",
    "Markdown syntax: http://nestacms.com/docs/creating-content/markdown-cheat-sheet\n",
    "Formulas for the Bernoulli distribution: https://en.wikipedia.org/wiki/Bernoulli_distribution"
   ]
  },
  {
   "cell_type": "code",
   "execution_count": 1,
   "metadata": {},
   "outputs": [],
   "source": [
    "import pandas as pd\n",
    "import seaborn as sns\n",
    "import matplotlib.pyplot as plt\n",
    "import numpy as np\n",
    "import scipy.stats as stats\n"
   ]
  },
  {
   "cell_type": "code",
   "execution_count": 2,
   "metadata": {},
   "outputs": [],
   "source": [
    "data = pd.io.stata.read_stata('data/us_job_market_discrimination.dta')"
   ]
  },
  {
   "cell_type": "code",
   "execution_count": 3,
   "metadata": {},
   "outputs": [
    {
     "data": {
      "text/plain": [
       "235.0"
      ]
     },
     "execution_count": 3,
     "metadata": {},
     "output_type": "execute_result"
    }
   ],
   "source": [
    "# number of callbacks for black-sounding names\n",
    "sum(data[data.race=='w'].call)"
   ]
  },
  {
   "cell_type": "code",
   "execution_count": 4,
   "metadata": {},
   "outputs": [
    {
     "data": {
      "text/plain": [
       "Index(['id', 'ad', 'education', 'ofjobs', 'yearsexp', 'honors', 'volunteer',\n",
       "       'military', 'empholes', 'occupspecific', 'occupbroad', 'workinschool',\n",
       "       'email', 'computerskills', 'specialskills', 'firstname', 'sex', 'race',\n",
       "       'h', 'l', 'call', 'city', 'kind', 'adid', 'fracblack', 'fracwhite',\n",
       "       'lmedhhinc', 'fracdropout', 'fraccolp', 'linc', 'col', 'expminreq',\n",
       "       'schoolreq', 'eoe', 'parent_sales', 'parent_emp', 'branch_sales',\n",
       "       'branch_emp', 'fed', 'fracblack_empzip', 'fracwhite_empzip',\n",
       "       'lmedhhinc_empzip', 'fracdropout_empzip', 'fraccolp_empzip',\n",
       "       'linc_empzip', 'manager', 'supervisor', 'secretary', 'offsupport',\n",
       "       'salesrep', 'retailsales', 'req', 'expreq', 'comreq', 'educreq',\n",
       "       'compreq', 'orgreq', 'manuf', 'transcom', 'bankreal', 'trade',\n",
       "       'busservice', 'othservice', 'missind', 'ownership'],\n",
       "      dtype='object')"
      ]
     },
     "execution_count": 4,
     "metadata": {},
     "output_type": "execute_result"
    }
   ],
   "source": [
    "data.head()\n",
    "data.columns"
   ]
  },
  {
   "cell_type": "code",
   "execution_count": 5,
   "metadata": {},
   "outputs": [
    {
     "data": {
      "text/plain": [
       "id                       0\n",
       "ad                       0\n",
       "education                0\n",
       "ofjobs                   0\n",
       "yearsexp                 0\n",
       "honors                   0\n",
       "volunteer                0\n",
       "military                 0\n",
       "empholes                 0\n",
       "occupspecific            0\n",
       "occupbroad               0\n",
       "workinschool             0\n",
       "email                    0\n",
       "computerskills           0\n",
       "specialskills            0\n",
       "firstname                0\n",
       "sex                      0\n",
       "race                     0\n",
       "h                        0\n",
       "l                        0\n",
       "call                     0\n",
       "city                     0\n",
       "kind                     0\n",
       "adid                     0\n",
       "fracblack               86\n",
       "fracwhite               86\n",
       "lmedhhinc               86\n",
       "fracdropout             86\n",
       "fraccolp                86\n",
       "linc                    86\n",
       "                      ... \n",
       "parent_emp            3148\n",
       "branch_sales          4262\n",
       "branch_emp            4212\n",
       "fed                   1768\n",
       "fracblack_empzip      2952\n",
       "fracwhite_empzip      2952\n",
       "lmedhhinc_empzip      2962\n",
       "fracdropout_empzip    2952\n",
       "fraccolp_empzip       2952\n",
       "linc_empzip           2952\n",
       "manager                  0\n",
       "supervisor               0\n",
       "secretary                0\n",
       "offsupport               0\n",
       "salesrep                 0\n",
       "retailsales              0\n",
       "req                      0\n",
       "expreq                   0\n",
       "comreq                   0\n",
       "educreq                  0\n",
       "compreq                  0\n",
       "orgreq                   0\n",
       "manuf                    0\n",
       "transcom                 0\n",
       "bankreal                 0\n",
       "trade                    0\n",
       "busservice               0\n",
       "othservice               0\n",
       "missind                  0\n",
       "ownership                0\n",
       "Length: 65, dtype: int64"
      ]
     },
     "execution_count": 5,
     "metadata": {},
     "output_type": "execute_result"
    }
   ],
   "source": [
    "#Check if our columns of interest have any null values:\n",
    "data.isna().sum()"
   ]
  },
  {
   "cell_type": "markdown",
   "metadata": {
    "collapsed": true
   },
   "source": [
    "<div class=\"span5 alert alert-success\">\n",
    "<p>Your answers to Q1 and Q2 here</p>\n",
    "</div>"
   ]
  },
  {
   "cell_type": "markdown",
   "metadata": {},
   "source": [
    "# Q1: Does CLT apply here? What test should we apply?"
   ]
  },
  {
   "cell_type": "markdown",
   "metadata": {},
   "source": [
    "**Lets see if CLT will apply here:**"
   ]
  },
  {
   "cell_type": "code",
   "execution_count": 6,
   "metadata": {},
   "outputs": [
    {
     "data": {
      "text/plain": [
       "4870"
      ]
     },
     "execution_count": 6,
     "metadata": {},
     "output_type": "execute_result"
    }
   ],
   "source": [
    "len(data)"
   ]
  },
  {
   "cell_type": "code",
   "execution_count": 7,
   "metadata": {},
   "outputs": [],
   "source": [
    "w = data[data.race=='w']\n",
    "b = data[data.race=='b']"
   ]
  },
  {
   "cell_type": "code",
   "execution_count": 8,
   "metadata": {},
   "outputs": [
    {
     "name": "stdout",
     "output_type": "stream",
     "text": [
      "length of whites:  2435\n",
      "length of blacks:  2435\n"
     ]
    }
   ],
   "source": [
    "print('length of whites: ', len(w))\n",
    "print('length of blacks: ', len(b))"
   ]
  },
  {
   "cell_type": "markdown",
   "metadata": {},
   "source": [
    "So the sample is large with n >> 30 and we can assume independence since n << 10% of the population. Additionally, we know an equal amount of whites vs blacks participated which indicates a normal binomial distribution."
   ]
  },
  {
   "cell_type": "markdown",
   "metadata": {},
   "source": [
    "**Lets calculate the sample proportions:**"
   ]
  },
  {
   "cell_type": "markdown",
   "metadata": {},
   "source": [
    "So we have two samples of equal size and would like to know if there is any statistical significance to the difference in callback numbers. Lets check those numbers:"
   ]
  },
  {
   "cell_type": "code",
   "execution_count": 9,
   "metadata": {},
   "outputs": [],
   "source": [
    "white_calls = data[data.race=='w']['call'].sum()"
   ]
  },
  {
   "cell_type": "code",
   "execution_count": 10,
   "metadata": {},
   "outputs": [],
   "source": [
    "black_calls = data[data.race=='b']['call'].sum()"
   ]
  },
  {
   "cell_type": "code",
   "execution_count": 11,
   "metadata": {},
   "outputs": [
    {
     "name": "stdout",
     "output_type": "stream",
     "text": [
      "Proportion of whites with callbacks is: 0.09650924024640657\n",
      "Proportion of blacks with callbacks is: 0.06447638603696099\n",
      "Proportion difference between whites and blacks: 0.032032854209445585\n"
     ]
    }
   ],
   "source": [
    "p_w = white_calls/len(w)\n",
    "p_b = black_calls/len(b)\n",
    "\n",
    "#Calculate a difference in proportions\n",
    "p_w_b = p_w - p_b\n",
    "\n",
    "print('Proportion of whites with callbacks is:', p_w)\n",
    "print('Proportion of blacks with callbacks is:', p_b)\n",
    "print('Proportion difference between whites and blacks:', p_w_b)"
   ]
  },
  {
   "cell_type": "markdown",
   "metadata": {},
   "source": [
    "**For this analysis we will conduct a 2-sample test where we will look to see if the difference between sample proportions is statistically significant. Lets formulate our hypothesis below:**"
   ]
  },
  {
   "cell_type": "markdown",
   "metadata": {},
   "source": [
    "# Q2: What are the null and alternate hypotheses?"
   ]
  },
  {
   "cell_type": "markdown",
   "metadata": {},
   "source": [
    "Ho: p_w = p_b \n",
    "\n",
    "Ha: p_w > p_b (proportion of callbacks for whites is greater than that of blacks)\n",
    "\n",
    "Apha: .05 or 5%"
   ]
  },
  {
   "cell_type": "markdown",
   "metadata": {},
   "source": [
    "# Q3: Compute the Margin of Error, Confidence Interval and P-Value"
   ]
  },
  {
   "cell_type": "code",
   "execution_count": 12,
   "metadata": {},
   "outputs": [
    {
     "name": "stdout",
     "output_type": "stream",
     "text": [
      "Standard deviation of whites with callbacks is: 3.580911983304638e-05\n",
      "Standard deviation of blacks with callbacks is: 2.4771737856498466e-05\n"
     ]
    }
   ],
   "source": [
    "#Lets calculate the variance for each population:\n",
    "\n",
    "w_std = (p_w*(1-p_w))/len(w)\n",
    "\n",
    "b_std = (p_b*(1-p_b))/len(b)\n",
    "\n",
    "print('Standard deviation of whites with callbacks is:', w_std)\n",
    "print('Standard deviation of blacks with callbacks is:', b_std)"
   ]
  },
  {
   "cell_type": "markdown",
   "metadata": {},
   "source": [
    "**Judging by the proportion and standard deviation of the callback rate distributions, we can state that they are normally distributed (since we know the binomial distribution goes from 0 to 1). This allows us to make some assumptions about the shape of their difference.**"
   ]
  },
  {
   "cell_type": "code",
   "execution_count": 13,
   "metadata": {},
   "outputs": [],
   "source": [
    "#Then we calculate std for the difference in distributions w-b\n",
    "\n",
    "w_b_std = np.sqrt(w_std + b_std)"
   ]
  },
  {
   "cell_type": "markdown",
   "metadata": {},
   "source": [
    "For the alpha we selected lets calculate a confidence interval and margin of error:"
   ]
  },
  {
   "cell_type": "code",
   "execution_count": 14,
   "metadata": {},
   "outputs": [
    {
     "name": "stdout",
     "output_type": "stream",
     "text": [
      "z-critical:  1.6448536269514722\n"
     ]
    }
   ],
   "source": [
    "z_critical = stats.norm.ppf(0.95)\n",
    "\n",
    "print('z-critical: ', z_critical)"
   ]
  },
  {
   "cell_type": "code",
   "execution_count": 15,
   "metadata": {},
   "outputs": [
    {
     "name": "stdout",
     "output_type": "stream",
     "text": [
      "moe:  0.012802505339402668\n"
     ]
    }
   ],
   "source": [
    "moe = w_b_std*z_critical\n",
    "\n",
    "print('moe: ', moe)"
   ]
  },
  {
   "cell_type": "markdown",
   "metadata": {},
   "source": [
    "So in other words we can say that assuming there is no difference in mean callback rates, we have 95% confidence that the difference in sample proportions will not exceed a difference of .012 (or a 1.2% difference in callbacks)\n",
    "\n",
    "*__Confidence Interval for difference__: Difference in callbacks <= 1.2%*"
   ]
  },
  {
   "cell_type": "markdown",
   "metadata": {},
   "source": [
    "Lets check the where the actual difference falls on this hypothetical distribution:"
   ]
  },
  {
   "cell_type": "code",
   "execution_count": 16,
   "metadata": {},
   "outputs": [
    {
     "name": "stdout",
     "output_type": "stream",
     "text": [
      "z-value:  4.11555043573\n"
     ]
    }
   ],
   "source": [
    "#Next lets calculate the z value\n",
    "z = (p_w_b - 0)/(w_b_std)\n",
    "print('z-value: ', z)"
   ]
  },
  {
   "cell_type": "code",
   "execution_count": 17,
   "metadata": {},
   "outputs": [
    {
     "name": "stdout",
     "output_type": "stream",
     "text": [
      "p-value:  3.862565207524149e-05\n"
     ]
    }
   ],
   "source": [
    "p_val_from_z = (1 - stats.norm.cdf(z))*2\n",
    "print('p-value: ', p_val_from_z)"
   ]
  },
  {
   "cell_type": "markdown",
   "metadata": {},
   "source": [
    "<div class=\"span5 alert alert-success\">\n",
    "<p> Your answers to Q4 and Q5 here </p>\n",
    "</div>"
   ]
  },
  {
   "cell_type": "markdown",
   "metadata": {},
   "source": [
    "# Q4: Story about the data"
   ]
  },
  {
   "cell_type": "markdown",
   "metadata": {},
   "source": [
    "The 2-sample significance test yields a very low p-value in other words the probability of such a difference in proportions given that the null hypothesis (of no difference) is true is close to 0%. So we have to reject the null hypothesis."
   ]
  },
  {
   "cell_type": "markdown",
   "metadata": {},
   "source": [
    "**Lets look at the data a bit more carefully:**"
   ]
  },
  {
   "cell_type": "code",
   "execution_count": 18,
   "metadata": {},
   "outputs": [
    {
     "data": {
      "text/html": [
       "<div>\n",
       "<style scoped>\n",
       "    .dataframe tbody tr th:only-of-type {\n",
       "        vertical-align: middle;\n",
       "    }\n",
       "\n",
       "    .dataframe tbody tr th {\n",
       "        vertical-align: top;\n",
       "    }\n",
       "\n",
       "    .dataframe thead th {\n",
       "        text-align: right;\n",
       "    }\n",
       "</style>\n",
       "<table border=\"1\" class=\"dataframe\">\n",
       "  <thead>\n",
       "    <tr style=\"text-align: right;\">\n",
       "      <th></th>\n",
       "      <th>race</th>\n",
       "      <th>yearsexp</th>\n",
       "      <th>Call count</th>\n",
       "      <th>total</th>\n",
       "      <th>ratio</th>\n",
       "    </tr>\n",
       "  </thead>\n",
       "  <tbody>\n",
       "    <tr>\n",
       "      <th>0</th>\n",
       "      <td>b</td>\n",
       "      <td>1</td>\n",
       "      <td>1.0</td>\n",
       "      <td>19</td>\n",
       "      <td>0.052632</td>\n",
       "    </tr>\n",
       "    <tr>\n",
       "      <th>1</th>\n",
       "      <td>b</td>\n",
       "      <td>2</td>\n",
       "      <td>12.0</td>\n",
       "      <td>177</td>\n",
       "      <td>0.067797</td>\n",
       "    </tr>\n",
       "    <tr>\n",
       "      <th>2</th>\n",
       "      <td>b</td>\n",
       "      <td>3</td>\n",
       "      <td>5.0</td>\n",
       "      <td>95</td>\n",
       "      <td>0.052632</td>\n",
       "    </tr>\n",
       "    <tr>\n",
       "      <th>3</th>\n",
       "      <td>b</td>\n",
       "      <td>4</td>\n",
       "      <td>14.0</td>\n",
       "      <td>259</td>\n",
       "      <td>0.054054</td>\n",
       "    </tr>\n",
       "    <tr>\n",
       "      <th>4</th>\n",
       "      <td>b</td>\n",
       "      <td>5</td>\n",
       "      <td>12.0</td>\n",
       "      <td>264</td>\n",
       "      <td>0.045455</td>\n",
       "    </tr>\n",
       "  </tbody>\n",
       "</table>\n",
       "</div>"
      ],
      "text/plain": [
       "  race  yearsexp  Call count  total     ratio\n",
       "0    b         1         1.0     19  0.052632\n",
       "1    b         2        12.0    177  0.067797\n",
       "2    b         3         5.0     95  0.052632\n",
       "3    b         4        14.0    259  0.054054\n",
       "4    b         5        12.0    264  0.045455"
      ]
     },
     "execution_count": 18,
     "metadata": {},
     "output_type": "execute_result"
    }
   ],
   "source": [
    "yrs_calls = data.groupby(['race','yearsexp'])['call'].sum()\n",
    "\n",
    "\n",
    "\n",
    "yrs_calls = pd.DataFrame(yrs_calls)\n",
    "yrs_calls = yrs_calls.rename(columns={yrs_calls.columns[0]:'Call count'})\n",
    "yrs_calls = yrs_calls.reset_index()\n",
    "\n",
    "yrs_calls_ct = data.groupby(['race','yearsexp'])['call'].count()\n",
    "yrs_calls_ct = pd.DataFrame(yrs_calls_ct)\n",
    "yrs_calls_ct = yrs_calls_ct.reset_index()\n",
    "\n",
    "\n",
    "yrs_calls['total'] = yrs_calls_ct['call']\n",
    "yrs_calls['ratio'] = yrs_calls['Call count']/yrs_calls_ct['call']\n",
    "\n",
    "yrs_calls.head()\n",
    "# sns.catplot(x='yearsexp', y='ratio', hue='race', data=yrs_calls, height=9, kind=\"bar\")"
   ]
  },
  {
   "cell_type": "code",
   "execution_count": 19,
   "metadata": {},
   "outputs": [
    {
     "data": {
      "image/png": "[encoded data removed]",
      "text/plain": [
       "<Figure size 692.125x648 with 1 Axes>"
      ]
     },
     "metadata": {},
     "output_type": "display_data"
    }
   ],
   "source": [
    "edu_calls = data.groupby(['race','education'])['call'].sum()\n",
    "\n",
    "edu_calls = pd.DataFrame(edu_calls)\n",
    "edu_calls = edu_calls.rename(columns={edu_calls.columns[0]:'Call count'})\n",
    "edu_calls = edu_calls.reset_index()\n",
    "\n",
    "edu_calls_ct = data.groupby(['race','education'])['call'].count()\n",
    "edu_calls_ct = pd.DataFrame(edu_calls_ct)\n",
    "edu_calls_ct = edu_calls_ct.reset_index()\n",
    "\n",
    "edu_calls_ct.head()\n",
    "edu_calls['total'] = edu_calls_ct['call']\n",
    "edu_calls['ratio'] = edu_calls['Call count']/edu_calls_ct['call']\n",
    "\n",
    "\n",
    "\n",
    "_ = sns.catplot(x='education', y='ratio', hue='race', data=edu_calls, height=9, kind=\"bar\")"
   ]
  },
  {
   "cell_type": "code",
   "execution_count": 20,
   "metadata": {},
   "outputs": [
    {
     "data": {
      "image/png": "[encoded data removed]",
      "text/plain": [
       "<Figure size 692.125x648 with 1 Axes>"
      ]
     },
     "metadata": {},
     "output_type": "display_data"
    }
   ],
   "source": [
    "jobs_calls = data.groupby(['race','ofjobs'])['call'].sum()\n",
    "\n",
    "\n",
    "jobs_calls = pd.DataFrame(jobs_calls)\n",
    "jobs_calls = jobs_calls.rename(columns={jobs_calls.columns[0]:'Call count'})\n",
    "jobs_calls = jobs_calls.reset_index()\n",
    "\n",
    "jobs_calls_ct = data.groupby(['race','ofjobs'])['call'].count()\n",
    "jobs_calls_ct = pd.DataFrame(jobs_calls_ct)\n",
    "jobs_calls_ct = jobs_calls_ct.reset_index()\n",
    "\n",
    "\n",
    "jobs_calls['total'] = jobs_calls_ct['call']\n",
    "jobs_calls['ratio'] = jobs_calls['Call count']/jobs_calls_ct['call']\n",
    "\n",
    "\n",
    "_ = sns.catplot(x='ofjobs', y='ratio', hue='race', data=jobs_calls, height=9, kind=\"bar\")"
   ]
  },
  {
   "cell_type": "markdown",
   "metadata": {},
   "source": [
    "# Q5: Is race the most important factor?"
   ]
  },
  {
   "cell_type": "markdown",
   "metadata": {},
   "source": [
    "This analysis is fairly revealing since feature for feature tested the results are unbalanced with respect to callbacks by race. \n",
    "\n",
    "Race definitely has a large influence in getting a callback. I think the next test i would perform is some type of corellation matrix to evaluate what has the strongest corellation w/r to getting callbacks."
   ]
  },
  {
   "cell_type": "code",
   "execution_count": 21,
   "metadata": {},
   "outputs": [
    {
     "data": {
      "text/plain": [
       "dtype('int64')"
      ]
     },
     "execution_count": 21,
     "metadata": {},
     "output_type": "execute_result"
    }
   ],
   "source": [
    "data = pd.io.stata.read_stata('data/us_job_market_discrimination.dta')\n",
    "data = data.replace({'race':{'w':1,'b':0}})\n",
    "data.race.dtype"
   ]
  },
  {
   "cell_type": "code",
   "execution_count": 22,
   "metadata": {},
   "outputs": [
    {
     "data": {
      "image/png": "[encoded data removed]",
      "text/plain": [
       "<Figure size 1008x1008 with 2 Axes>"
      ]
     },
     "metadata": {},
     "output_type": "display_data"
    }
   ],
   "source": [
    "\n",
    "corr = data.select_dtypes(include=['float32', 'int64', 'int8']).iloc[:,1:].corr()\n",
    "\n",
    "sns.set_style(\"whitegrid\", {'axes.grid' : False})\n",
    "\n",
    "# Generate a mask for the upper triangle\n",
    "mask = np.zeros_like(corr, dtype=np.bool)\n",
    "mask[np.triu_indices_from(mask)] = True\n",
    "\n",
    "# Set up the matplotlib figure\n",
    "f, ax = plt.subplots(figsize=(14, 14))\n",
    "\n",
    "# Generate a custom diverging colormap\n",
    "cmap = sns.diverging_palette(300, 180, as_cmap=True)\n",
    "\n",
    "# Draw the heatmap with the mask and correct aspect ratio\n",
    "_ = sns.heatmap(corr, mask=mask, cmap=cmap, center=0, square=True, linewidths=.5, cbar_kws={\"shrink\": .5})"
   ]
  },
  {
   "cell_type": "code",
   "execution_count": 23,
   "metadata": {},
   "outputs": [
    {
     "name": "stdout",
     "output_type": "stream",
     "text": [
      "specialskills: \t0.1110743127103042\n",
      "honors: \t0.07195106891681666\n",
      "empholes: \t0.071888016528195\n",
      "adid: \t0.06317821856100413\n",
      "yearsexp: \t0.06143649028706098\n",
      "race: \t0.05887209958635942\n",
      "linc: \t0.04964918991412017\n",
      "offsupport: \t0.04778342593705669\n",
      "lmedhhinc: \t0.047699492226663524\n",
      "fraccolp: \t0.04701560939515582\n",
      "parent_emp: \t0.039060028683226035\n",
      "othservice: \t0.03611419380810814\n",
      "transcom: \t0.03555829229316884\n",
      "fracwhite: \t0.03514797278927086\n",
      "occupbroad: \t0.03453585145240745\n",
      "fraccolp_empzip: \t0.026117647503122322\n",
      "email: \t0.025880369289598464\n",
      "h: \t0.02583542265734749\n",
      "fed: \t0.01447111695546625\n",
      "fracdropout_empzip: \t0.013951455518367633\n",
      "fracblack_empzip: \t0.009882141606821443\n",
      "parent_sales: \t0.008430159590075748\n",
      "volunteer: \t0.007197011317504166\n",
      "linc_empzip: \t0.006883121968787626\n",
      "busservice: \t0.0068819759172008945\n",
      "secretary: \t0.004038091800540139\n",
      "eoe: \t0.0030921553856928146\n",
      "comreq: \t0.002421266777923099\n",
      "retailsales: \t0.002335717928660761\n",
      "ofjobs: \t0.0023111491894311663\n",
      "missind: \t-0.007554988267171547\n",
      "col: \t-0.008479184072070293\n",
      "bankreal: \t-0.008995708126726435\n",
      "supervisor: \t-0.012060985054053942\n",
      "expreq: \t-0.019249538815735788\n",
      "manager: \t-0.020268538239853345\n",
      "military: \t-0.020576686700530977\n",
      "salesrep: \t-0.02158413439919563\n",
      "trade: \t-0.02185260565673908\n",
      "fracblack: \t-0.02212960133592714\n",
      "compreq: \t-0.02490743282897484\n",
      "l: \t-0.02583542265734749\n",
      "branch_emp: \t-0.026908847303886377\n",
      "workinschool: \t-0.02788787057755936\n",
      "manuf: \t-0.028785400797794704\n",
      "computerskills: \t-0.028813216729119018\n",
      "branch_sales: \t-0.02912572316541144\n",
      "fracwhite_empzip: \t-0.03298887306322267\n",
      "orgreq: \t-0.03341594150523636\n",
      "educreq: \t-0.03386442418717253\n",
      "req: \t-0.04169921353617302\n",
      "lmedhhinc_empzip: \t-0.049879370016579536\n",
      "fracdropout: \t-0.056671250939911696\n"
     ]
    }
   ],
   "source": [
    "cor_dict = corr['call'].to_dict()\n",
    "\n",
    "del cor_dict['call']\n",
    "\n",
    "output = [\n",
    "    print(\"{0}: \\t{1}\".format(*entry))\n",
    "    for entry in sorted(cor_dict.items(), key = lambda x: x[1], reverse=True)\n",
    "]"
   ]
  },
  {
   "cell_type": "markdown",
   "metadata": {},
   "source": [
    "**Highlighting this result we see the following:**\n",
    "    \n",
    "honors: \t0.07195106891681666\n",
    "\n",
    "empholes: \t0.071888016528195\n",
    "\n",
    "adid: \t0.06317821856100413\n",
    "\n",
    "yearsexp: \t0.06143649028706098\n",
    "\n",
    "race: \t0.05887209958635942\n",
    "    \n",
    "    \n",
    "So looks like race ranks 5th in terms of corellation to callbacks. Honors, empholes, adid and yearexp are the other strong indicators. So although it cant be said race is the most important factor in callback success, its clear it plays a very large role. As we saw in the visualisations, callback ratio per feature is unbalanced by race. "
   ]
  },
  {
   "cell_type": "code",
   "execution_count": null,
   "metadata": {},
   "outputs": [],
   "source": []
  }
 ],
 "metadata": {
  "kernelspec": {
   "display_name": "Python 3",
   "language": "python",
   "name": "python3"
  },
  "language_info": {
   "codemirror_mode": {
    "name": "ipython",
    "version": 3
   },
   "file_extension": ".py",
   "mimetype": "text/x-python",
   "name": "python",
   "nbconvert_exporter": "python",
   "pygments_lexer": "ipython3",
   "version": "3.6.0"
  }
 },
 "nbformat": 4,
 "nbformat_minor": 1
}
